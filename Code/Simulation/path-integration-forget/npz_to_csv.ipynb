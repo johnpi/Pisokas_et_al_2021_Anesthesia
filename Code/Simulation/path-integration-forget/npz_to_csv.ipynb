{
 "cells": [
  {
   "cell_type": "markdown",
   "metadata": {},
   "source": [
    "# Convert data from .npz files to .CSV trajectory files"
   ]
  },
  {
   "cell_type": "code",
   "execution_count": 1,
   "metadata": {},
   "outputs": [],
   "source": [
    "%matplotlib inline\n",
    "%load_ext autoreload\n",
    "%autoreload 2\n",
    "\n",
    "import os\n",
    "import glob\n",
    "from pathlib import Path\n",
    "import numpy as np\n",
    "import pandas as pd\n",
    "import matplotlib.pyplot as plt\n",
    "import trials\n",
    "\n",
    "path_output_csv  = './data/Converted_to_CSV/'\n",
    "\n",
    "# Process all the subdirectories of the collected data for memory experiments\n",
    "filename_pattern = [sub + '/with_Pontin_Holonomic_*_*.npz' for sub in glob.glob('data/Conditions/Memory/*')]; only_inbound=True;"
   ]
  },
  {
   "cell_type": "code",
   "execution_count": 2,
   "metadata": {},
   "outputs": [],
   "source": [
    "def check_num_of_entries_in_datafiles(filename, path_output_csv):\n",
    "    \"\"\" This is used to check if the collected files are valid \"\"\"\n",
    "    \n",
    "    # Create subdirectory structure if it does not exist\n",
    "    Path(path_output_csv).joinpath(Path(filename).parent).mkdir(parents=True, exist_ok=True)\n",
    "\n",
    "    h, v, log = trials.load_route(filename=filename)\n",
    "    \n",
    "    return len(v)\n",
    "\n",
    "\n",
    "def convert_datafiles_to_csv_files(filename, path_output_csv, scaling=1.0, sampling_rate=25, \n",
    "                                   cut_once_crossing_x=None, only_inbound=False, keep_first_n_samples=None):\n",
    "    \"\"\" \n",
    "        Gets velocity measurements from a npz file and converts it  \n",
    "        to x,y coordinates series of a trajectory. Result is saved \n",
    "        in the path_output_csv .CSV file. \n",
    "        The velocity data are assumed to be sampled every \n",
    "        1/sampling_rate seconds. \n",
    "        If cut_once_crossing_x is a number the trajectory data is \n",
    "        cut off as soon as the simulated ant crosses a cut_once_crossing_x\n",
    "        radius from the release point.\n",
    "        If only_inbound is True the csv files will contain only the inbound \n",
    "        (homing) part of the route. \n",
    "        If keep_first_n_samples == None all samples will be stored. \n",
    "        If keep_first_n_samples(int) < length(path) then only the first \n",
    "        keep_first_n_samples samples will be stored. \n",
    "    \"\"\"\n",
    "    \n",
    "    # Create subdirectory structure if it does not exist\n",
    "    Path(path_output_csv).joinpath(Path(filename).parent).mkdir(parents=True, exist_ok=True)\n",
    "    \n",
    "    try:\n",
    "        h, v, log = trials.load_route(filename=filename)\n",
    "\n",
    "        # Convert velocity to x,y coordinates\n",
    "        if not only_inbound:\n",
    "            # Use the whole route\n",
    "            xy = np.vstack([np.array([0.0, 0.0]), np.cumsum(v, axis=0)])\n",
    "        else:\n",
    "            # Use only the homing part of the route\n",
    "            xy = np.vstack([np.array([0.0, 0.0]), np.cumsum(v[log.T_outbound:], axis=0)])\n",
    "        x, y = xy[:, 0], xy[:, 1]\n",
    "\n",
    "        # Create a time stamp vector\n",
    "        t = np.array(range(0, len(x))) * (1.0 / sampling_rate)\n",
    "        data = list(zip(x, y, t))\n",
    "\n",
    "        # Construct pandas data frame\n",
    "        columns = ['x', 'y', 'Time']\n",
    "        df = pd.DataFrame(data, columns=columns)\n",
    "\n",
    "        # Coordinates scalling to m\n",
    "        df.x = df.x * scaling\n",
    "        df.y = df.y * scaling\n",
    "\n",
    "        if cut_once_crossing_x is not None and isinstance(cut_once_crossing_x, (int, float)):\n",
    "            #cut_off_index = np.argmin(np.abs(np.hypot(df.x, df.y) - cut_once_crossing_x))\n",
    "            cut_off_index = np.argmax(np.hypot(df.x, df.y) > cut_once_crossing_x)\n",
    "            if cut_off_index > 0:\n",
    "                df = df.head(cut_off_index+1)\n",
    "            filename = filename.replace('.npz', '_platformReleases.npz')\n",
    "        \n",
    "        if keep_first_n_samples is not None and isinstance(keep_first_n_samples, int):\n",
    "            if keep_first_n_samples < len(df):\n",
    "                df = df.head(keep_first_n_samples)\n",
    "        \n",
    "        # Construct the CSV filename\n",
    "        pathfilename = Path(path_output_csv).joinpath(filename).with_suffix('.csv')\n",
    "        #print('Writing data frame to file:', pathfilename)\n",
    "        print('.', end='')\n",
    "        df.to_csv(pathfilename, index = False)\n",
    "    except: \n",
    "        print('Error while processing ', filename)"
   ]
  },
  {
   "cell_type": "code",
   "execution_count": 3,
   "metadata": {},
   "outputs": [
    {
     "name": "stdout",
     "output_type": "stream",
     "text": [
      "Smallest number of steps in trajectory 3002\n",
      "Smallest number of steps in trajectory 1502\n",
      "Smallest number of steps in trajectory 3002\n",
      "Smallest number of steps in trajectory 3002\n",
      "Smallest number of steps in trajectory 3002\n",
      "Smallest number of steps in trajectory 3002\n",
      "Smallest number of steps in trajectory 3002\n",
      "Smallest number of steps in trajectory 3002\n",
      "Smallest number of steps in trajectory 3002\n",
      "Smallest number of steps in trajectory 3002\n",
      "Smallest number of steps in trajectory 3002\n",
      "Smallest number of steps in trajectory 3002\n",
      "Smallest number of steps in trajectory 3002\n",
      "Smallest number of steps in trajectory 3002\n",
      "Smallest number of steps in trajectory 3002\n",
      "Smallest number of steps in trajectory 3002\n",
      "Smallest number of steps in trajectory 3002\n",
      "Smallest number of steps in trajectory 3002\n",
      "Smallest number of steps in trajectory 3002\n",
      "Smallest number of steps in trajectory 3002\n",
      "Smallest number of steps in trajectory 3002\n",
      "Smallest number of steps in trajectory 3002\n",
      "Smallest number of steps in trajectory 3002\n",
      "Smallest number of steps in trajectory 3002\n",
      "Smallest number of steps in trajectory 3002\n",
      "Smallest number of steps in trajectory 3002\n",
      "Smallest number of steps in trajectory 3002\n",
      "Smallest number of steps in trajectory 3002\n",
      "Smallest number of steps in trajectory 3002\n",
      "Smallest number of steps in trajectory 3002\n",
      "Smallest number of steps in trajectory 3002\n",
      "Smallest number of steps in trajectory 3002\n",
      "Smallest number of steps in trajectory 3002\n",
      "Smallest number of steps in trajectory 3002\n",
      "Smallest number of steps in trajectory 3002\n",
      "Smallest number of steps in trajectory 3002\n",
      "Smallest number of steps in trajectory 3002\n",
      "Smallest number of steps in trajectory 3002\n",
      "Smallest number of steps in trajectory 3002\n",
      "Smallest number of steps in trajectory 3002\n",
      "Smallest number of steps in trajectory 3002\n",
      "Smallest number of steps in trajectory 3002\n",
      "Smallest number of steps in trajectory 3002\n",
      "Smallest number of steps in trajectory 3002\n",
      "Smallest number of steps in trajectory 3002\n",
      "Smallest number of steps in trajectory 3002\n",
      "Smallest number of steps in trajectory 3002\n",
      "Smallest number of steps in trajectory 3002\n",
      "Smallest number of steps in trajectory 3002\n",
      "Smallest number of steps in trajectory 3002\n",
      "Smallest number of steps in trajectory 3002\n",
      "Smallest number of steps in trajectory 3002\n",
      "Smallest number of steps in trajectory 3002\n",
      "Smallest number of steps in trajectory 3002\n",
      "Smallest number of steps in trajectory 3002\n",
      "Smallest number of steps in trajectory 3002\n",
      "Smallest number of steps in trajectory 3002\n",
      "Smallest number of steps in trajectory 3002\n",
      "Smallest number of steps in trajectory 3002\n",
      "Smallest number of steps in trajectory 3002\n",
      "Smallest number of steps in trajectory 3002\n",
      "Smallest number of steps in trajectory 3002\n",
      "Smallest number of steps in trajectory 3002\n",
      "Smallest number of steps in trajectory 3002\n",
      "Smallest number of steps in trajectory 3002\n",
      "Smallest number of steps in trajectory 3002\n",
      "Smallest number of steps in trajectory 3002\n",
      "Smallest number of steps in trajectory 3002\n",
      "Smallest number of steps in trajectory 3002\n",
      "Smallest number of steps in trajectory 3002\n",
      "Smallest number of steps in trajectory 3002\n",
      "Smallest number of steps in trajectory 3002\n",
      "Smallest number of steps in trajectory 3002\n",
      "Smallest number of steps in trajectory 3002\n"
     ]
    }
   ],
   "source": [
    "# Check if any of the files has too few trajectory steps\n",
    "if not isinstance(filename_pattern, list):\n",
    "    filename_pattern = [filename_pattern]\n",
    "\n",
    "for filename_pattern_i in filename_pattern:\n",
    "    files_list = glob.glob(filename_pattern_i, recursive=False)\n",
    "\n",
    "    lengths_list = []\n",
    "    for f in files_list:\n",
    "        try:\n",
    "            lengths_list.append(check_num_of_entries_in_datafiles(f.replace('data/', ''), path_output_csv))\n",
    "        except:\n",
    "            print(f)\n",
    "    print('Smallest number of steps in trajectory', min(lengths_list))"
   ]
  },
  {
   "cell_type": "markdown",
   "metadata": {},
   "source": [
    "# Convert the trajectory files from .npz to .csv"
   ]
  },
  {
   "cell_type": "markdown",
   "metadata": {},
   "source": [
    "## Convert the whole trajectory keep the filename and change the extension from .npz to .csv"
   ]
  },
  {
   "cell_type": "code",
   "execution_count": 3,
   "metadata": {},
   "outputs": [
    {
     "name": "stdout",
     "output_type": "stream",
     "text": [
      ".................................................................................................................................................................................................................................................................................................................................................................................................................................................................................................................................................................................................................................................................................................................................................................................................................................................................................................................................................................................................................................................................................................................................."
     ]
    }
   ],
   "source": [
    "# Convert the trajectory files from .npz to .csv\n",
    "fps = 25 # in frames per sec\n",
    "scaling = 0.03  # max distance = 0.03m/step * 1500steps = 45m\n",
    "\n",
    "if not isinstance(filename_pattern, list):\n",
    "    filename_pattern = [filename_pattern]\n",
    "\n",
    "for filename_pattern_i in filename_pattern:\n",
    "    files_list = glob.glob(filename_pattern_i, recursive=False)\n",
    "\n",
    "    for f in files_list:\n",
    "        convert_datafiles_to_csv_files(f.replace('data/', ''), path_output_csv, scaling = scaling, \n",
    "                                       sampling_rate=fps, only_inbound=only_inbound, keep_first_n_samples=600)"
   ]
  },
  {
   "cell_type": "markdown",
   "metadata": {},
   "source": [
    "## Keep only the trajectory until the first crossing of a 20cm radius from release point. \n",
    "## Save with _platformReleases.csv appended to the filename."
   ]
  },
  {
   "cell_type": "code",
   "execution_count": 4,
   "metadata": {},
   "outputs": [
    {
     "name": "stdout",
     "output_type": "stream",
     "text": [
      ".................................................................................................................................................................................................................................................................................................................................................................................................................................................................................................................................................................................................................................................................................................................................................................................................................................................................................................................................................................................................................................................................................................................................."
     ]
    }
   ],
   "source": [
    "# Convert the trajectory files from .npz to .csv\n",
    "fps = 25 # in frames per sec\n",
    "scaling = 0.03  # max distance = 0.03m/step * 1500steps = 45m\n",
    "\n",
    "if not isinstance(filename_pattern, list):\n",
    "    filename_pattern = [filename_pattern]\n",
    "\n",
    "for filename_pattern_i in filename_pattern:\n",
    "    files_list = glob.glob(filename_pattern_i, recursive=False)\n",
    "\n",
    "    for f in files_list:\n",
    "        convert_datafiles_to_csv_files(f.replace('data/', ''), path_output_csv, scaling = scaling, \n",
    "                                       sampling_rate=fps, only_inbound=only_inbound, \n",
    "                                       cut_once_crossing_x=0.20, keep_first_n_samples=600)"
   ]
  },
  {
   "cell_type": "code",
   "execution_count": null,
   "metadata": {},
   "outputs": [],
   "source": []
  }
 ],
 "metadata": {
  "kernelspec": {
   "display_name": "Python 3",
   "language": "python",
   "name": "python3"
  },
  "language_info": {
   "codemirror_mode": {
    "name": "ipython",
    "version": 3
   },
   "file_extension": ".py",
   "mimetype": "text/x-python",
   "name": "python",
   "nbconvert_exporter": "python",
   "pygments_lexer": "ipython3",
   "version": "3.7.9"
  }
 },
 "nbformat": 4,
 "nbformat_minor": 2
}
