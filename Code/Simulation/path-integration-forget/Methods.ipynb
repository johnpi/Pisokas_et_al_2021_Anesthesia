{
 "cells": [
  {
   "cell_type": "code",
   "execution_count": 1,
   "metadata": {},
   "outputs": [],
   "source": [
    "%matplotlib inline\n",
    "\n",
    "import os\n",
    "import numpy as np\n",
    "import matplotlib.pyplot as plt\n",
    "from scipy.signal import lfilter\n",
    "from scipy.interpolate import interp1d\n",
    "\n",
    "# Colors \n",
    "black = 'black'\n",
    "\n",
    "save_figures = False\n",
    "save_figures_as_filetype = '.svg'\n",
    "images_path = '../../images/'\n",
    "\n",
    "mm_per_in = 25.4 \n",
    "fig_width  = 83 / mm_per_in # mm / mm_per_in\n",
    "fig_height = 58 / mm_per_in # mm / mm_per_in"
   ]
  },
  {
   "cell_type": "code",
   "execution_count": 2,
   "metadata": {},
   "outputs": [
    {
     "data": {
      "image/png": "[encoded data removed]",
      "text/plain": [
       "<Figure size 235.276x164.409 with 1 Axes>"
      ]
     },
     "metadata": {
      "needs_background": "light"
     },
     "output_type": "display_data"
    }
   ],
   "source": [
    "def turn_noise_level(x, slope=75.0, y_max=1.0, y_min=0.0):\n",
    "    \"\"\" Decaying exponential \n",
    "        x     : a scalar or an ndarray object, 1D, 2D or whatever. \n",
    "        slope : slope of the exponential. The larger the value the more steep the drop of value.\n",
    "        y_max : the maximum output value.\n",
    "        y_min : the minimum output value. \n",
    "    \"\"\"\n",
    "    y = (y_max-y_min) / np.exp(slope * x) + y_min\n",
    "    return y\n",
    "\n",
    "# CPU4 activity amplitude (peak to peak)\n",
    "x = np.linspace(0, 1, 1000)\n",
    "\n",
    "fig = plt.figure(figsize=(fig_width, fig_height))\n",
    "plt.plot(x, turn_noise_level(x, slope=9.0, y_max=7.0, y_min=0.0), color=black)\n",
    "plt.xlabel('Memory amplitude')\n",
    "plt.ylabel('Motor noise')\n",
    "\n",
    "if save_figures:\n",
    "    fig.savefig(images_path + 'motor_noise_function' + save_figures_as_filetype, bbox_inches='tight', transparent=True)\n"
   ]
  },
  {
   "cell_type": "code",
   "execution_count": null,
   "metadata": {},
   "outputs": [],
   "source": []
  }
 ],
 "metadata": {
  "kernelspec": {
   "display_name": "Python 3",
   "language": "python",
   "name": "python3"
  },
  "language_info": {
   "codemirror_mode": {
    "name": "ipython",
    "version": 3
   },
   "file_extension": ".py",
   "mimetype": "text/x-python",
   "name": "python",
   "nbconvert_exporter": "python",
   "pygments_lexer": "ipython3",
   "version": "3.7.9"
  }
 },
 "nbformat": 4,
 "nbformat_minor": 2
}
